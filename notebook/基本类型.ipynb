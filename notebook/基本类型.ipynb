{
 "cells": [
  {
   "cell_type": "code",
   "execution_count": 35,
   "metadata": {},
   "outputs": [
    {
     "name": "stdout",
     "output_type": "stream",
     "text": [
      "WARNING:tensorflow:Issue encountered when serializing variables.\n",
      "Type is unsupported, or the types of the items don't match field type in CollectionDef. Note this is a warning and probably safe to ignore.\n",
      "PyEval_EvalFrameEx returned a result with an error set\n",
      "WARNING:tensorflow:Issue encountered when serializing trainable_variables.\n",
      "Type is unsupported, or the types of the items don't match field type in CollectionDef. Note this is a warning and probably safe to ignore.\n",
      "PyEval_EvalFrameEx returned a result with an error set\n",
      "INFO:tensorflow:Restoring parameters from ./files/vs.ckpt-1\n"
     ]
    },
    {
     "data": {
      "text/plain": [
       "array([1.], dtype=float32)"
      ]
     },
     "execution_count": 35,
     "metadata": {},
     "output_type": "execute_result"
    }
   ],
   "source": [
    "import tensorflow as tf\n",
    "\n",
    "cons = tf.constant(3.0)\n",
    "x = tf.Variable(tf.zeros([1]))\n",
    "str_var_1 = tf.Variable(\"hello\", tf.string)\n",
    "str_var_2 = tf.Variable([\"hello\", \"world\"], tf.string)\n",
    "str_var_3 = tf.Variable([[\"he\", \"llo\"], [\"wor\",\"ld\"]], tf.string)\n",
    "\n",
    "[str_var_1, str_var_2, str_var_3]\n",
    "\n",
    "float_var_1 = tf.Variable([1.0], tf.float64)\n",
    "float_var_1.assign([2.0])\n",
    "float_var_1.assign_add([3.0])\n",
    "[float_var_1]\n",
    "\n",
    "sentense = tf.add(x, cons)\n",
    "\n",
    "init = tf.initialize_all_variables()\n",
    "\n",
    "session = tf.Session()\n",
    "session.run(init)\n",
    "session.run(sentense)\n",
    "\n",
    "\n",
    "saver = tf.train.Saver({'v': float_var_1})\n",
    "saver.save(session, './files/vs.ckpt', global_step=1)\n",
    "\n",
    "saver.restore(session, './files/vs.ckpt-1')\n",
    "session.run(float_var_1)\n",
    "\n"
   ]
  },
  {
   "cell_type": "code",
   "execution_count": null,
   "metadata": {},
   "outputs": [],
   "source": []
  }
 ],
 "metadata": {
  "kernelspec": {
   "display_name": "global",
   "language": "python",
   "name": "global"
  },
  "language_info": {
   "codemirror_mode": {
    "name": "ipython",
    "version": 3
   },
   "file_extension": ".py",
   "mimetype": "text/x-python",
   "name": "python",
   "nbconvert_exporter": "python",
   "pygments_lexer": "ipython3",
   "version": "3.7.4"
  }
 },
 "nbformat": 4,
 "nbformat_minor": 4
}
